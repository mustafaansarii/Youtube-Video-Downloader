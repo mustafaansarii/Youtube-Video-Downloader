{
 "cells": [
  {
   "cell_type": "markdown",
   "id": "5ce91bb9",
   "metadata": {},
   "source": [
    "# Download Youtube Video"
   ]
  },
  {
   "cell_type": "code",
   "execution_count": 16,
   "id": "316b1d01",
   "metadata": {},
   "outputs": [
    {
     "name": "stdout",
     "output_type": "stream",
     "text": [
      " * Serving Flask app \"__main__\" (lazy loading)\n",
      " * Environment: production\n",
      "\u001b[31m   WARNING: This is a development server. Do not use it in a production deployment.\u001b[0m\n",
      "\u001b[2m   Use a production WSGI server instead.\u001b[0m\n",
      " * Debug mode: on\n"
     ]
    },
    {
     "name": "stderr",
     "output_type": "stream",
     "text": [
      " * Running on http://127.0.0.1:5001/ (Press CTRL+C to quit)\n",
      " * Restarting with watchdog (inotify)\n",
      "Traceback (most recent call last):\n",
      "  File \"/home/mustafa/anaconda3/lib/python3.9/site-packages/ipykernel_launcher.py\", line 16, in <module>\n",
      "    app.launch_new_instance()\n",
      "  File \"/home/mustafa/anaconda3/lib/python3.9/site-packages/traitlets/config/application.py\", line 845, in launch_instance\n",
      "    app.initialize(argv)\n",
      "  File \"/home/mustafa/anaconda3/lib/python3.9/site-packages/traitlets/config/application.py\", line 88, in inner\n",
      "    return method(app, *args, **kwargs)\n",
      "  File \"/home/mustafa/anaconda3/lib/python3.9/site-packages/ipykernel/kernelapp.py\", line 632, in initialize\n",
      "    self.init_sockets()\n",
      "  File \"/home/mustafa/anaconda3/lib/python3.9/site-packages/ipykernel/kernelapp.py\", line 282, in init_sockets\n",
      "    self.shell_port = self._bind_socket(self.shell_socket, self.shell_port)\n",
      "  File \"/home/mustafa/anaconda3/lib/python3.9/site-packages/ipykernel/kernelapp.py\", line 229, in _bind_socket\n",
      "    return self._try_bind_socket(s, port)\n",
      "  File \"/home/mustafa/anaconda3/lib/python3.9/site-packages/ipykernel/kernelapp.py\", line 205, in _try_bind_socket\n",
      "    s.bind(\"tcp://%s:%i\" % (self.ip, port))\n",
      "  File \"/home/mustafa/anaconda3/lib/python3.9/site-packages/zmq/sugar/socket.py\", line 214, in bind\n",
      "    super().bind(addr)\n",
      "  File \"zmq/backend/cython/socket.pyx\", line 540, in zmq.backend.cython.socket.Socket.bind\n",
      "  File \"zmq/backend/cython/checkrc.pxd\", line 28, in zmq.backend.cython.checkrc._check_rc\n",
      "zmq.error.ZMQError: Address already in use\n"
     ]
    },
    {
     "ename": "SystemExit",
     "evalue": "1",
     "output_type": "error",
     "traceback": [
      "An exception has occurred, use %tb to see the full traceback.\n",
      "\u001b[0;31mSystemExit\u001b[0m\u001b[0;31m:\u001b[0m 1\n"
     ]
    },
    {
     "name": "stderr",
     "output_type": "stream",
     "text": [
      "/home/mustafa/anaconda3/lib/python3.9/site-packages/IPython/core/interactiveshell.py:3377: UserWarning: To exit: use 'exit', 'quit', or Ctrl-D.\n",
      "  warn(\"To exit: use 'exit', 'quit', or Ctrl-D.\", stacklevel=1)\n"
     ]
    }
   ],
   "source": [
    "from flask import Flask, render_template, request, send_file\n",
    "from pytube import Playlist, YouTube\n",
    "\n",
    "app = Flask(__name__)\n",
    "\n",
    "# Function to download a single video\n",
    "def download_single_video(url, download_audio=False):\n",
    "    try:\n",
    "        yt = YouTube(url)\n",
    "        if download_audio:\n",
    "            stream = yt.streams.filter(only_audio=True).first()\n",
    "        else:\n",
    "            stream = yt.streams.get_highest_resolution()\n",
    "        file_path = stream.download()\n",
    "        return file_path, yt.title\n",
    "    except Exception as e:\n",
    "        print(f\"Error downloading {url}: {str(e)}\")\n",
    "        return None, None\n",
    "\n",
    "# Function to download videos from a playlist\n",
    "def download_playlist(url, download_audio=False):\n",
    "    playlist = Playlist(url)\n",
    "    downloaded_files = []\n",
    "\n",
    "    for video in playlist.video_urls:\n",
    "        try:\n",
    "            yt = YouTube(video)\n",
    "            if download_audio:\n",
    "                stream = yt.streams.filter(only_audio=True).first()\n",
    "            else:\n",
    "                stream = yt.streams.get_highest_resolution()\n",
    "            file_path = stream.download()\n",
    "            downloaded_files.append((file_path, yt.title))\n",
    "        except Exception as e:\n",
    "            print(f\"Error downloading {yt.title}: {str(e)}\")\n",
    "    \n",
    "    return downloaded_files\n",
    "\n",
    "# Determine the type of URL and download accordingly\n",
    "def download_by_url(url, download_audio=False):\n",
    "    if 'playlist' in url:\n",
    "        return download_playlist(url, download_audio)\n",
    "    else:\n",
    "        return [download_single_video(url, download_audio)]\n",
    "\n",
    "@app.route('/', methods=['GET', 'POST'])\n",
    "def index():\n",
    "    if request.method == 'POST':\n",
    "        url = request.form['url']\n",
    "        choice = request.form['choice']\n",
    "\n",
    "        if choice == 'video':\n",
    "            files = download_by_url(url)\n",
    "        elif choice == 'audio':\n",
    "            files = download_by_url(url, download_audio=True)\n",
    "        else:\n",
    "            return \"Invalid choice.\"\n",
    "        \n",
    "        return render_template('index.html', files=files)\n",
    "    \n",
    "    return render_template('index.html')\n",
    "\n",
    "@app.route('/download/<path:file_path>')\n",
    "def download(file_path):\n",
    "    return send_file(file_path, as_attachment=True)\n",
    "\n",
    "if __name__ == '__main__':\n",
    "    app.run(debug=True, port=5001)\n"
   ]
  },
  {
   "cell_type": "code",
   "execution_count": null,
   "id": "d2a0b81c",
   "metadata": {},
   "outputs": [],
   "source": []
  },
  {
   "cell_type": "code",
   "execution_count": null,
   "id": "4b335cc6",
   "metadata": {},
   "outputs": [],
   "source": []
  },
  {
   "cell_type": "code",
   "execution_count": null,
   "id": "7d8d650b",
   "metadata": {},
   "outputs": [],
   "source": []
  },
  {
   "cell_type": "code",
   "execution_count": null,
   "id": "f8d001d1",
   "metadata": {},
   "outputs": [],
   "source": []
  },
  {
   "cell_type": "code",
   "execution_count": null,
   "id": "07e52e64",
   "metadata": {},
   "outputs": [],
   "source": []
  },
  {
   "cell_type": "code",
   "execution_count": null,
   "id": "c27d0338",
   "metadata": {},
   "outputs": [],
   "source": []
  }
 ],
 "metadata": {
  "kernelspec": {
   "display_name": "Python 3 (ipykernel)",
   "language": "python",
   "name": "python3"
  },
  "language_info": {
   "codemirror_mode": {
    "name": "ipython",
    "version": 3
   },
   "file_extension": ".py",
   "mimetype": "text/x-python",
   "name": "python",
   "nbconvert_exporter": "python",
   "pygments_lexer": "ipython3",
   "version": "3.9.12"
  }
 },
 "nbformat": 4,
 "nbformat_minor": 5
}
