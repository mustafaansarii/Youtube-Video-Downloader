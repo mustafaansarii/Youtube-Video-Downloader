{
 "cells": [
  {
   "cell_type": "markdown",
   "id": "5ce91bb9",
   "metadata": {},
   "source": [
    "# Download Youtube Video"
   ]
  },
  {
   "cell_type": "code",
   "execution_count": 6,
   "id": "316b1d01",
   "metadata": {},
   "outputs": [
    {
     "name": "stdout",
     "output_type": "stream",
     "text": [
      "Downloading: 5 Surprising Benefits of Using a Tumbler Rolling Knife Sharpener\n",
      "5 Surprising Benefits of Using a Tumbler Rolling Knife Sharpener downloaded successfully!\n",
      "\n",
      "Downloading: Pull-Through vs Rolling Knife Sharpener? Which is the BEST! Gorilla Grip vs Tumbler Sharpener\n",
      "Pull-Through vs Rolling Knife Sharpener? Which is the BEST! Gorilla Grip vs Tumbler Sharpener downloaded successfully!\n",
      "\n",
      "Downloading: Revive Your Dull Knives in Under 3 Minutes with the Tumbler Rolling Sharpener: Victorinox Edition\n",
      "Revive Your Dull Knives in Under 3 Minutes with the Tumbler Rolling Sharpener: Victorinox Edition downloaded successfully!\n",
      "\n"
     ]
    }
   ],
   "source": [
    "from pytube import Playlist, YouTube\n",
    "\n",
    "# Function to download a single video\n",
    "def download_single_video(url, option):\n",
    "    try:\n",
    "        yt = YouTube(url)\n",
    "        if option == 'V':\n",
    "            stream = yt.streams.get_highest_resolution()\n",
    "        elif option == 'A':\n",
    "            stream = yt.streams.filter(only_audio=True).first()\n",
    "        print(f\"Downloading: {yt.title}\")\n",
    "        stream.download()\n",
    "        print(f\"{yt.title} downloaded successfully!\\n\")\n",
    "    except Exception as e:\n",
    "        print(f\"Error downloading {url}: {str(e)}\")\n",
    "\n",
    "# Function to download videos from a playlist\n",
    "def download_playlist(url, option):\n",
    "    playlist = Playlist(url)\n",
    "\n",
    "    for video in playlist.video_urls:\n",
    "        try:\n",
    "            yt = YouTube(video)\n",
    "            if option == 'V':\n",
    "                stream = yt.streams.get_highest_resolution()\n",
    "            elif option == 'A':\n",
    "                stream = yt.streams.filter(only_audio=True).first()\n",
    "            print(f\"Downloading: {yt.title}\")\n",
    "            stream.download()\n",
    "            print(f\"{yt.title} downloaded successfully!\\n\")\n",
    "        except Exception as e:\n",
    "            print(f\"Error downloading {yt.title}: {str(e)}\")\n",
    "\n",
    "# Determine the type of URL and download accordingly\n",
    "def download_by_url(url, option):\n",
    "    if 'playlist' in url:\n",
    "        download_playlist(url, option)\n",
    "    else:\n",
    "        download_single_video(url, option)\n",
    "\n",
    "# Example usage\n",
    "if __name__ == \"__main__\":\n",
    "    url = input(\"Enter the YouTube video or playlist URL: \")\n",
    "    option = input(\"Enter 'V' to download video or 'A' to download audio: \").upper()\n",
    "    download_by_url(url, option)\n"
   ]
  },
  {
   "cell_type": "code",
   "execution_count": null,
   "id": "4b335cc6",
   "metadata": {},
   "outputs": [],
   "source": []
  },
  {
   "cell_type": "code",
   "execution_count": null,
   "id": "7d8d650b",
   "metadata": {},
   "outputs": [],
   "source": []
  },
  {
   "cell_type": "code",
   "execution_count": null,
   "id": "f8d001d1",
   "metadata": {},
   "outputs": [],
   "source": []
  },
  {
   "cell_type": "code",
   "execution_count": null,
   "id": "07e52e64",
   "metadata": {},
   "outputs": [],
   "source": []
  },
  {
   "cell_type": "code",
   "execution_count": null,
   "id": "c27d0338",
   "metadata": {},
   "outputs": [],
   "source": []
  }
 ],
 "metadata": {
  "kernelspec": {
   "display_name": "Python 3 (ipykernel)",
   "language": "python",
   "name": "python3"
  },
  "language_info": {
   "codemirror_mode": {
    "name": "ipython",
    "version": 3
   },
   "file_extension": ".py",
   "mimetype": "text/x-python",
   "name": "python",
   "nbconvert_exporter": "python",
   "pygments_lexer": "ipython3",
   "version": "3.9.12"
  }
 },
 "nbformat": 4,
 "nbformat_minor": 5
}
